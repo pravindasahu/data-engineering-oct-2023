{
 "cells": [
  {
   "cell_type": "markdown",
   "metadata": {},
   "source": [
    "********************* Task 2 *********************"
   ]
  },
  {
   "cell_type": "code",
   "execution_count": 1,
   "metadata": {},
   "outputs": [
    {
     "name": "stdout",
     "output_type": "stream",
     "text": [
      "Performing a test query (e.g., fetching nodes count from the db)....\n",
      "Successfully connected to Neo4j db. Total nodes in the database: 0\n"
     ]
    }
   ],
   "source": [
    "#Import neo4j and other required liberaries.\n",
    "from neo4j import GraphDatabase\n",
    "import configparser\n",
    "import json\n",
    "import logging\n",
    "\n",
    "#Setting initial logging level to INFO\n",
    "logging.basicConfig(filename='researchGraph.log',level=logging.INFO) \n",
    "# Creating ConfigParser object\n",
    "config = configparser.ConfigParser()\n",
    "\n",
    "# Reading the configuration file\n",
    "config.read('config.ini')\n",
    "\n",
    "# Getting the credentials from the configuration file\n",
    "uri = config['Neo4j']['uri']\n",
    "username = config['Neo4j']['username']\n",
    "password = config['Neo4j']['password']\n",
    "\n",
    "# Create a driver instance\n",
    "driver = GraphDatabase.driver(uri, auth=(username, password))\n",
    "logging.info(\"Created driver for Neo4j DB.\")\n",
    "\n",
    "#Function to test the connection to neo4j db\n",
    "def test_neo4j_connection(driver):\n",
    "    try:\n",
    "        with driver.session() as session:\n",
    "            print(f\"Performing a test query (e.g., fetching nodes count from the db)....\")\n",
    "            logging.info(f\"Performing a test query (e.g., fetching nodes count from the db)....\")\n",
    "            result = session.run(\"MATCH (n) RETURN COUNT(n) AS nodeCount\")\n",
    "            record = result.single()\n",
    "            node_count = record[\"nodeCount\"]\n",
    "            logging.info(f\"Successfully connected to Neo4j db. Total nodes in the database: {node_count}\")\n",
    "            print(f\"Successfully connected to Neo4j db. Total nodes in the database: {node_count}\")\n",
    "    except Exception as e:\n",
    "        logging.error(f\"Error connecting to Neo4j due to error: {str(e)}\")\n",
    "\n",
    "# Testing the connection to neo4j db:\n",
    "test_neo4j_connection(driver)"
   ]
  },
  {
   "cell_type": "code",
   "execution_count": 2,
   "metadata": {},
   "outputs": [],
   "source": [
    "#Function for creating Nodes and Relationships using the json\n",
    "def create_nodes_and_relationships(tx, data):\n",
    "    # Extracting the data from the JSON\n",
    "    _id = data[\"_id\"]\n",
    "    title = data[\"title\"][0]\n",
    "    abstract = data[\"abstract\"]\n",
    "    \n",
    "    # Creating a node for the PAPER\n",
    "    tx.run(\"CREATE (paper:Paper {id: $id, title: $title, abstract: $abstract})\", id=_id, title=title, abstract=abstract)\n",
    "   \n",
    "    # Creating nodes for AUTHORS and RELATIONSHIPS between AUTHORS and the PAPER\n",
    "    for author in data[\"author\"]:\n",
    "        author_name = author[\"given\"] + \" \" + author[\"family\"]\n",
    "        affiliation = author[\"affiliation\"][0][\"name\"]\n",
    "    \n",
    "    # Create or merge the Author node\n",
    "        tx.run(\"MERGE (author:Author {name: $name})\", name=author_name)\n",
    "\n",
    "    # Create or merge the Organization node\n",
    "        tx.run(\"MERGE (org:Organization {name: $affiliation})\", affiliation=affiliation)\n",
    "\n",
    "    # Create the AFFILIATED_WITH relationship between AUTHOR and ORGANIZATION\n",
    "        tx.run(\"MATCH (author:Author {name: $name}), (org:Organization {name: $affiliation}) \"\n",
    "             \"MERGE (author)-[:AFFILIATED_WITH]->(org)\", name=author_name, affiliation=affiliation)\n",
    "\n",
    "    # Create the AUTHORED_BY relationship between PAPER and AUTHOR\n",
    "        tx.run(\"MATCH (paper:Paper {id: $id}), (author:Author {name: $name}) \"\n",
    "            \"MERGE (paper)-[:AUTHORED_BY]->(author)\", id=_id, name=author_name)\n",
    "\n",
    "# Creating nodes for REFERENCES and RELATIONSHIPS between REFERENCES and the PAPER\n",
    "    for reference in data[\"reference\"]:\n",
    "        reference_key = reference[\"key\"]\n",
    "        reference_doi = reference.get(\"DOI\", \"N/A\")  # Provide a default value if \"DOI\" is missing\n",
    "        reference_unstructured = reference[\"unstructured\"]\n",
    "        tx.run(\"MERGE (reference:Reference {key: $key, doi: $doi, unstructured: $unstructured})\", key=reference_key, doi=reference_doi, unstructured=reference_unstructured)\n",
    "        tx.run(\"MATCH (paper:Paper {id: $id}), (reference:Reference {key: $key}) \"\n",
    "            \"CREATE (paper)-[:CITES]->(reference)\", id=_id, key=reference_key)\n"
   ]
  },
  {
   "cell_type": "code",
   "execution_count": 3,
   "metadata": {},
   "outputs": [
    {
     "name": "stdout",
     "output_type": "stream",
     "text": [
      "Finished data insertion.\n"
     ]
    },
    {
     "name": "stderr",
     "output_type": "stream",
     "text": [
      "/var/folders/lt/19p0zwfn2p96v3w_v2rxlsdw0000gp/T/ipykernel_17797/58666854.py:9: DeprecationWarning: write_transaction has been renamed to execute_write\n",
      "  session.write_transaction(create_nodes_and_relationships, data)\n"
     ]
    }
   ],
   "source": [
    "# Loading the JSON data from the Sample.json file\n",
    "with open('Sample.json', 'r') as json_file:\n",
    "    data = json.load(json_file)\n",
    "logging.info(\"Finshed json loading.\")\n",
    "\n",
    "# Creating a session to execute the Cypher queries for creating nodes and relationships to neo4j db\n",
    "with driver.session() as session:\n",
    "    logging.info(\"Starting data insertion to neo4j db nodes and relationships from json.\")\n",
    "    session.write_transaction(create_nodes_and_relationships, data)\n",
    "    logging.info(\"Finished data insertion.\")\n",
    "    print(\"Finished data insertion.\")"
   ]
  },
  {
   "cell_type": "markdown",
   "metadata": {},
   "source": [
    "Function to get the top 10 organizations with highest degree of centrality"
   ]
  },
  {
   "cell_type": "code",
   "execution_count": 6,
   "metadata": {},
   "outputs": [
    {
     "name": "stdout",
     "output_type": "stream",
     "text": [
      "Organization: Department of Statistics, Faculty of Arts and Science , Forecast Research Laboratory , Giresun University , Giresun , 28100 , Turkey => Degree of Centrality: 2\n",
      "Organization: Department of Biostatistics, Medical Faculty , Marmara University , Istanbul , Turkey => Degree of Centrality: 1\n",
      "Organization: Department of Econometrics, Faculty of Economic and Administrative Sciences , Forecast Research Laboratory , Giresun University , Giresun , 28100 , Turkey => Degree of Centrality: 1\n"
     ]
    }
   ],
   "source": [
    "# Function to get the top 10 organizations with highest degree of centrality\n",
    "def get_top_10_organizations_by_centrality(driver):\n",
    "    with driver.session() as session:\n",
    "        try:\n",
    "            result = session.run(\"\"\"\n",
    "            MATCH (n:Author)-[:AFFILIATED_WITH]-(o:Organization)\n",
    "            WITH o, COUNT(n) AS degree\n",
    "            ORDER BY degree DESC\n",
    "            LIMIT 10\n",
    "            RETURN o.name AS organization, degree;\n",
    "            \"\"\")\n",
    "        except Exception as e:\n",
    "            print(f\"Error while executing Cypher query. Details are as follow: {str(e)}\")\n",
    "        # Retrieve and return the results as a list of dictionaries\n",
    "        top_organizations = [record for record in result]\n",
    "        return top_organizations\n",
    "\n",
    "# Get the top 10 organizations by degree centrality\n",
    "top_organizations = get_top_10_organizations_by_centrality(driver)\n",
    "\n",
    "for org in top_organizations:\n",
    "    print(f\"Organization: {org['organization']} => Degree of Centrality: {org['degree']}\")\n"
   ]
  },
  {
   "cell_type": "markdown",
   "metadata": {},
   "source": [
    "Function to get the top 10 researchers with highest degree of centrality"
   ]
  },
  {
   "cell_type": "code",
   "execution_count": 7,
   "metadata": {},
   "outputs": [
    {
     "name": "stdout",
     "output_type": "stream",
     "text": [
      "Author: Esra Akdeniz => Degree of Centrality: 1\n",
      "Author: Erol Egrioglu => Degree of Centrality: 1\n",
      "Author: Eren Bas => Degree of Centrality: 1\n",
      "Author: Ufuk Yolcu => Degree of Centrality: 1\n"
     ]
    }
   ],
   "source": [
    "# Function to get the top 10 researchers with highest degree of centrality\n",
    "def get_top_10_researchers_by_centrality(driver):\n",
    "    with driver.session() as session:\n",
    "        try:\n",
    "            result = session.run(\"\"\"\n",
    "            MATCH (a:Author)-[:AFFILIATED_WITH]-(o:Organization)\n",
    "            WITH a, COUNT(o) AS degree\n",
    "            ORDER BY degree DESC\n",
    "            LIMIT 10\n",
    "            RETURN a.name AS author, degree;\n",
    "            \"\"\")\n",
    "        except Exception as e:\n",
    "            print(f\"Error while executing Cypher query. Details are as follow {str(e)}\")\n",
    "        # Retrieve and return the results as a list of dictionaries\n",
    "        top_researchers = [record for record in result]\n",
    "        return top_researchers\n",
    "\n",
    "# Get the top 10 researchers by degree centrality\n",
    "top_researchers = get_top_10_researchers_by_centrality(driver)\n",
    "\n",
    "for author in top_researchers:\n",
    "    print(f\"Author: {author['author']} => Degree of Centrality: {author['degree']}\")"
   ]
  }
 ],
 "metadata": {
  "kernelspec": {
   "display_name": "Python 3",
   "language": "python",
   "name": "python3"
  },
  "language_info": {
   "codemirror_mode": {
    "name": "ipython",
    "version": 3
   },
   "file_extension": ".py",
   "mimetype": "text/x-python",
   "name": "python",
   "nbconvert_exporter": "python",
   "pygments_lexer": "ipython3",
   "version": "3.10.7"
  },
  "orig_nbformat": 4
 },
 "nbformat": 4,
 "nbformat_minor": 2
}
