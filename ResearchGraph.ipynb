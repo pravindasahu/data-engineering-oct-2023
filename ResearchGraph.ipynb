{
 "cells": [
  {
   "cell_type": "markdown",
   "metadata": {},
   "source": [
    "Installation of neo4j db and related libraries are required before executing the cells below.\n"
   ]
  },
  {
   "cell_type": "code",
   "execution_count": 1,
   "metadata": {},
   "outputs": [],
   "source": [
    "#Import neo4j and other required liberaries.\n",
    "from neo4j import GraphDatabase\n",
    "import configparser\n",
    "import json\n",
    "import logging\n",
    "\n",
    "#Setting initial logging level to INFO\n",
    "logging.basicConfig(filename='researchGraph.log',level=logging.INFO) "
   ]
  },
  {
   "cell_type": "code",
   "execution_count": 4,
   "metadata": {},
   "outputs": [
    {
     "name": "stdout",
     "output_type": "stream",
     "text": [
      "Performing a test query (e.g., fetching nodes count from the db)....\n",
      "Successfully connected to Neo4j db. Total nodes in the database: 0\n"
     ]
    }
   ],
   "source": [
    "# Creating ConfigParser object\n",
    "config = configparser.ConfigParser()\n",
    "\n",
    "# Reading the configuration file\n",
    "config.read('config.ini')\n",
    "\n",
    "# Getting the credentials from the configuration file\n",
    "uri = config['Neo4j']['uri']\n",
    "username = config['Neo4j']['username']\n",
    "password = config['Neo4j']['password']\n",
    "\n",
    "# Create a driver instance\n",
    "driver = GraphDatabase.driver(uri, auth=(username, password))\n",
    "logging.info(\"Created driver for Neo4j DB.\")\n",
    "\n",
    "#Function to test the connection to neo4j db\n",
    "def test_neo4j_connection(driver):\n",
    "    try:\n",
    "        with driver.session() as session:\n",
    "            print(f\"Performing a test query (e.g., fetching nodes count from the db)....\")\n",
    "            logging.info(f\"Performing a test query (e.g., fetching nodes count from the db)....\")\n",
    "            result = session.run(\"MATCH (n) RETURN COUNT(n) AS nodeCount\")\n",
    "            record = result.single()\n",
    "            node_count = record[\"nodeCount\"]\n",
    "            logging.info(f\"Successfully connected to Neo4j db. Total nodes in the database: {node_count}\")\n",
    "            print(f\"Successfully connected to Neo4j db. Total nodes in the database: {node_count}\")\n",
    "    except Exception as e:\n",
    "        logging.error(f\"Error connecting to Neo4j due to error: {str(e)}\")\n",
    "\n",
    "# Testing the connection to neo4j db:\n",
    "test_neo4j_connection(driver)\n"
   ]
  },
  {
   "cell_type": "code",
   "execution_count": 5,
   "metadata": {},
   "outputs": [],
   "source": [
    "#Function for creating Nodes and Relationships using the json\n",
    "def create_nodes_and_relationships(tx, data):\n",
    "    # Extracting the data from the JSON\n",
    "    _id = data[\"_id\"]\n",
    "    title = data[\"title\"][0]\n",
    "    abstract = data[\"abstract\"]\n",
    "    \n",
    "    # Creating a node for the PAPER\n",
    "    tx.run(\"CREATE (paper:Paper {id: $id, title: $title, abstract: $abstract})\", id=_id, title=title, abstract=abstract)\n",
    "    \n",
    "    # Creating nodes for AUTHORS and RELATIONSHIPS between AUTHORS and the PAPER\n",
    "    for author in data[\"author\"]:\n",
    "        author_name = author[\"given\"] + \" \" + author[\"family\"]\n",
    "        affiliation = author[\"affiliation\"][0][\"name\"]\n",
    "        tx.run(\"MERGE (author:Author {name: $name, affiliation: $affiliation})\", name=author_name, affiliation=affiliation)\n",
    "        \n",
    "        # Creating ORGANIZATION node\n",
    "        tx.run(\"MERGE (org:Organization {name: $affiliation})\", affiliation=affiliation)\n",
    "\n",
    "        # Creating the AFFILIATED_WITH relationship between AUTHOR and ORGANIZATION\n",
    "        tx.run(\"MATCH (author:Author {name: $name}), (org:Organization {name: $affiliation}) \"\n",
    "           \"MERGE (author)-[:AFFILIATED_WITH]->(org)\", name=author_name, affiliation=affiliation)\n",
    "    \n",
    "        # Creating the AUTHORED_BY relationship between PAPER and AUTHOR\n",
    "        tx.run(\"MATCH (paper:Paper {id: $id}), (author:Author {name: $name}) \"\n",
    "           \"MERGE (paper)-[:AUTHORED_BY]->(author)\", id=_id, name=author_name)\n",
    "\n",
    "    # Creating nodes for REFERENCES and RELATIONSHIPS between REFERENCES and the PAPER\n",
    "    for reference in data[\"reference\"]:\n",
    "        reference_key = reference[\"key\"]\n",
    "        reference_doi = reference.get(\"DOI\", \"N/A\")  # Provide a default value if \"DOI\" is missing\n",
    "        reference_unstructured = reference[\"unstructured\"]\n",
    "        tx.run(\"MERGE (reference:Reference {key: $key, doi: $doi, unstructured: $unstructured})\", key=reference_key, doi=reference_doi, unstructured=reference_unstructured)\n",
    "        tx.run(\"MATCH (paper:Paper {id: $id}), (reference:Reference {key: $key}) \"\n",
    "               \"CREATE (paper)-[:CITES]->(reference)\", id=_id, key=reference_key)\n"
   ]
  },
  {
   "cell_type": "code",
   "execution_count": 6,
   "metadata": {},
   "outputs": [
    {
     "name": "stdout",
     "output_type": "stream",
     "text": [
      "Finished data insertion.\n"
     ]
    },
    {
     "name": "stderr",
     "output_type": "stream",
     "text": [
      "/var/folders/lt/19p0zwfn2p96v3w_v2rxlsdw0000gp/T/ipykernel_13846/58666854.py:9: DeprecationWarning: write_transaction has been renamed to execute_write\n",
      "  session.write_transaction(create_nodes_and_relationships, data)\n"
     ]
    }
   ],
   "source": [
    "# Loading the JSON data from the Sample.json file\n",
    "with open('Sample.json', 'r') as json_file:\n",
    "    data = json.load(json_file)\n",
    "logging.info(\"Finshed json loading.\")\n",
    "\n",
    "# Creating a session to execute the Cypher queries for creating nodes and relationships to neo4j db\n",
    "with driver.session() as session:\n",
    "    logging.info(\"Starting data insertion to neo4j db nodes and relationships from json.\")\n",
    "    session.write_transaction(create_nodes_and_relationships, data)\n",
    "    logging.info(\"Finished data insertion.\")\n",
    "    print(\"Finished data insertion.\")"
   ]
  },
  {
   "cell_type": "code",
   "execution_count": 7,
   "metadata": {},
   "outputs": [
    {
     "name": "stdout",
     "output_type": "stream",
     "text": [
      "Number of Articles: 1\n"
     ]
    }
   ],
   "source": [
    "#Function for calculating the 'Number of Articles' --> Task 1.2\n",
    "def get_number_of_articles(driver):\n",
    "    with driver.session() as session:\n",
    "        result = session.run(\"MATCH (p:Paper) RETURN count(p) as num_articles\")\n",
    "        num_articles = result.single()[\"num_articles\"]\n",
    "    return num_articles\n",
    "\n",
    "num_articles = get_number_of_articles(driver)\n",
    "print(f\"Number of Articles: {num_articles}\")"
   ]
  },
  {
   "cell_type": "code",
   "execution_count": 8,
   "metadata": {},
   "outputs": [
    {
     "name": "stdout",
     "output_type": "stream",
     "text": [
      "Number of Organizations (Deduplicated Affiliations): 3\n"
     ]
    }
   ],
   "source": [
    "#Function for calculating the 'Number of Organizations (Deduplicated Affiliations)'--> Task 1.2\n",
    "def get_number_of_organizations(driver):\n",
    "    with driver.session() as session:\n",
    "        result = session.run(\"MATCH (a:Author)-[:AFFILIATED_WITH]->(o:Organization) \"\n",
    "                             \"RETURN count(DISTINCT o) as num_organizations\")\n",
    "        num_organizations = result.single()[\"num_organizations\"]\n",
    "    return num_organizations\n",
    "\n",
    "num_organizations = get_number_of_organizations(driver)\n",
    "print(f\"Number of Organizations (Deduplicated Affiliations): {num_organizations}\")"
   ]
  },
  {
   "cell_type": "code",
   "execution_count": 9,
   "metadata": {},
   "outputs": [
    {
     "name": "stdout",
     "output_type": "stream",
     "text": [
      "Number of Researchers: 4\n"
     ]
    }
   ],
   "source": [
    "# Function to get the 'Number of Researchers' --> Task 1.2\n",
    "def get_number_of_researchers(driver):\n",
    "    with driver.session() as session:\n",
    "        result = session.run(\n",
    "            \"MATCH (a:Author) RETURN count(DISTINCT a) AS num_researchers\"\n",
    "        )\n",
    "        num_researchers = result.single()[\"num_researchers\"]\n",
    "    return num_researchers\n",
    "\n",
    "# Get the number of researchers\n",
    "num_researchers = get_number_of_researchers(driver)\n",
    "\n",
    "# Print the result\n",
    "print(f\"Number of Researchers: {num_researchers}\")"
   ]
  },
  {
   "cell_type": "code",
   "execution_count": 4,
   "metadata": {},
   "outputs": [],
   "source": [
    "'''def get_author_data(driver):\n",
    "    with driver.session() as session:\n",
    "        result = session.run(\"MATCH (a:Author) RETURN a\")\n",
    "        authors = [record['a'] for record in result]\n",
    "    return authors\n",
    "\n",
    "\n",
    "# Retrieve author data\n",
    "authors = get_author_data(driver)\n",
    "\n",
    "# Print author data\n",
    "for author in authors:\n",
    "    print(author)\n",
    "\n",
    "#To delete all records from the database\n",
    "def delete_all_records(driver):\n",
    "    with driver.session() as session:\n",
    "        session.run(\"MATCH (n) DETACH DELETE n\")\n",
    "\n",
    "# Call the function to delete all records\n",
    "delete_all_records(driver)'''"
   ]
  }
 ],
 "metadata": {
  "kernelspec": {
   "display_name": "Python 3",
   "language": "python",
   "name": "python3"
  },
  "language_info": {
   "codemirror_mode": {
    "name": "ipython",
    "version": 3
   },
   "file_extension": ".py",
   "mimetype": "text/x-python",
   "name": "python",
   "nbconvert_exporter": "python",
   "pygments_lexer": "ipython3",
   "version": "3.10.7"
  },
  "orig_nbformat": 4
 },
 "nbformat": 4,
 "nbformat_minor": 2
}
